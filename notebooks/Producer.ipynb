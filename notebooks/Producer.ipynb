{
 "cells": [
  {
   "cell_type": "code",
   "execution_count": 10,
   "metadata": {
    "tags": []
   },
   "outputs": [],
   "source": [
    "# FAKHRI AZIS BASIRI\n",
    "# ASSIGNMENT KAFKA\n",
    "\n",
    "import json\n",
    "import uuid\n",
    "import os\n",
    "import json\n",
    "from dotenv import load_dotenv\n",
    "from pathlib import Path\n",
    "from kafka import KafkaProducer\n",
    "from faker import Faker\n",
    "from time import sleep"
   ]
  },
  {
   "cell_type": "code",
   "execution_count": 11,
   "metadata": {
    "tags": []
   },
   "outputs": [
    {
     "data": {
      "text/plain": [
       "True"
      ]
     },
     "execution_count": 11,
     "metadata": {},
     "output_type": "execute_result"
    }
   ],
   "source": [
    "dotenv_path = Path('/resources/.env')\n",
    "load_dotenv(dotenv_path=dotenv_path)"
   ]
  },
  {
   "cell_type": "code",
   "execution_count": 3,
   "metadata": {
    "tags": []
   },
   "outputs": [
    {
     "name": "stdout",
     "output_type": "stream",
     "text": [
      "assignment-kafka-1\n",
      "assignment-kafka-2\n",
      "assignment-kafka-3\n"
     ]
    }
   ],
   "source": [
    "kafka_host = os.getenv('KAFKA_HOST')\n",
    "kafka_topic = os.getenv('KAFKA_TOPIC_NAME')\n",
    "for i in range(1,4):\n",
    "    kafka_topic_partition = f\"{kafka_topic}-{i}\" \n",
    "    print(kafka_topic_partition)\n",
    "    # kafka_topic_partition = os.getenv('KAFKA_TOPIC_NAME')+\"-1\"\n",
    "# kafka_topic_partition = \"dibimbing_batch_6\""
   ]
  },
  {
   "cell_type": "code",
   "execution_count": 4,
   "metadata": {
    "tags": []
   },
   "outputs": [
    {
     "name": "stdout",
     "output_type": "stream",
     "text": [
      "dataeng-kafka\n",
      "assignment-kafka\n"
     ]
    }
   ],
   "source": [
    "print(kafka_host)\n",
    "print(kafka_topic)"
   ]
  },
  {
   "cell_type": "code",
   "execution_count": 5,
   "metadata": {
    "tags": []
   },
   "outputs": [],
   "source": [
    "producer = KafkaProducer(bootstrap_servers=f'{kafka_host}:9092')"
   ]
  },
  {
   "cell_type": "code",
   "execution_count": 6,
   "metadata": {
    "tags": []
   },
   "outputs": [],
   "source": [
    "_instance = Faker()\n",
    "global faker\n",
    "faker = Faker()"
   ]
  },
  {
   "cell_type": "code",
   "execution_count": null,
   "metadata": {
    "tags": []
   },
   "outputs": [],
   "source": [
    "class DataGenerator(object):\n",
    "    @staticmethod\n",
    "    def get_data():\n",
    "        return [\n",
    "            uuid.uuid4().__str__(),  # transaction_id\n",
    "            faker.name(),  # customer_name\n",
    "            faker.random_element(elements=('Laptop A', 'Laptop B', 'Laptop C', 'Laptop D')),  # product_name\n",
    "            faker.random_element(elements=('CA', 'NY', 'TX', 'FL', 'IL', 'RJ')),  # state\n",
    "            faker.random_int(min=500, max=2000),  # price\n",
    "            faker.random_int(min=1, max=5),  # quantity\n",
    "            faker.random_int(min=0, max=20),  # discount (in percent)\n",
    "            faker.unix_time()  # timestamp\n",
    "        ]\n",
    "\n",
    "for i in range(1, 400):\n",
    "    columns = [\"transaction_id\", \"customer_name\", \"product_name\", \"state\", \"price\", \"quantity\", \"discount\", \"timestamp\"]\n",
    "    data_list = DataGenerator.get_data()\n",
    "    json_data = dict(zip(columns, data_list))\n",
    "    _payload = json.dumps(json_data).encode(\"utf-8\")\n",
    "    \n",
    "    # Assign partition based on a round-robin scheme\n",
    "    partition = i % 3  # Cycles through partitions 0, 1, and 2\n",
    "\n",
    "    # Send message to the specified partition in the \"assignment-kafka\" topic\n",
    "    response = producer.send(topic=\"assignment-kafka\", value=_payload, partition=partition)\n",
    "    print(f\"Transaction ID: {json_data['transaction_id']} sent to partition: {partition}\", response.get())\n",
    "    sleep(3)\n",
    "\n"
   ]
  },
  {
   "cell_type": "code",
   "execution_count": null,
   "metadata": {},
   "outputs": [],
   "source": []
  },
  {
   "cell_type": "code",
   "execution_count": null,
   "metadata": {},
   "outputs": [],
   "source": []
  }
 ],
 "metadata": {
  "kernelspec": {
   "display_name": "Python 3 (ipykernel)",
   "language": "python",
   "name": "python3"
  },
  "language_info": {
   "codemirror_mode": {
    "name": "ipython",
    "version": 3
   },
   "file_extension": ".py",
   "mimetype": "text/x-python",
   "name": "python",
   "nbconvert_exporter": "python",
   "pygments_lexer": "ipython3",
   "version": "3.10.10"
  }
 },
 "nbformat": 4,
 "nbformat_minor": 4
}
